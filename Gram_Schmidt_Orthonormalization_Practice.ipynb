{
  "nbformat": 4,
  "nbformat_minor": 0,
  "metadata": {
    "colab": {
      "provenance": [],
      "authorship_tag": "ABX9TyN+/PNxPQoovf06OkfDsBCO",
      "include_colab_link": true
    },
    "kernelspec": {
      "name": "python3",
      "display_name": "Python 3"
    },
    "language_info": {
      "name": "python"
    }
  },
  "cells": [
    {
      "cell_type": "markdown",
      "metadata": {
        "id": "view-in-github",
        "colab_type": "text"
      },
      "source": [
        "<a href=\"https://colab.research.google.com/github/mitchellmiskowski/Math311_Linear_Algebra_Projects/blob/main/Gram_Schmidt_Orthonormalization_Practice.ipynb\" target=\"_parent\"><img src=\"https://colab.research.google.com/assets/colab-badge.svg\" alt=\"Open In Colab\"/></a>"
      ]
    },
    {
      "cell_type": "code",
      "execution_count": 3,
      "metadata": {
        "id": "MeAoXMohkvLs"
      },
      "outputs": [],
      "source": [
        "import numpy as np"
      ]
    },
    {
      "cell_type": "markdown",
      "source": [
        "Let's figure out some vector operations!!"
      ],
      "metadata": {
        "id": "hNmDAj5Jk5wu"
      }
    },
    {
      "cell_type": "code",
      "source": [
        "# Create a vector\n",
        "v = np.array([1,2,3,4])\n",
        "v"
      ],
      "metadata": {
        "colab": {
          "base_uri": "https://localhost:8080/"
        },
        "id": "iCIHE2LHk9WZ",
        "outputId": "81e77e05-51f5-41f5-a6eb-4f0541760d48"
      },
      "execution_count": 20,
      "outputs": [
        {
          "output_type": "execute_result",
          "data": {
            "text/plain": [
              "array([1, 2, 3, 4])"
            ]
          },
          "metadata": {},
          "execution_count": 20
        }
      ]
    },
    {
      "cell_type": "code",
      "source": [
        "# Add a vector to a vector\n",
        "v + v"
      ],
      "metadata": {
        "colab": {
          "base_uri": "https://localhost:8080/"
        },
        "id": "RS4d9jqElklD",
        "outputId": "ce3962ff-ef6b-4bc3-f3df-7befdbe301d9"
      },
      "execution_count": 13,
      "outputs": [
        {
          "output_type": "execute_result",
          "data": {
            "text/plain": [
              "array([[2],\n",
              "       [4],\n",
              "       [6],\n",
              "       [8]])"
            ]
          },
          "metadata": {},
          "execution_count": 13
        }
      ]
    },
    {
      "cell_type": "code",
      "source": [
        "# Scale a vector\n",
        "5 * v"
      ],
      "metadata": {
        "colab": {
          "base_uri": "https://localhost:8080/"
        },
        "id": "-haNohr9lpRT",
        "outputId": "d968b2e3-8840-4806-da84-cfad423bd0cc"
      },
      "execution_count": 14,
      "outputs": [
        {
          "output_type": "execute_result",
          "data": {
            "text/plain": [
              "array([[ 5],\n",
              "       [10],\n",
              "       [15],\n",
              "       [20]])"
            ]
          },
          "metadata": {},
          "execution_count": 14
        }
      ]
    },
    {
      "cell_type": "code",
      "source": [
        "(1/5) * v"
      ],
      "metadata": {
        "colab": {
          "base_uri": "https://localhost:8080/"
        },
        "id": "AdpIAxN4luSI",
        "outputId": "f4bbb24e-d8a9-4f54-b5cd-e11f8f8995b8"
      },
      "execution_count": 15,
      "outputs": [
        {
          "output_type": "execute_result",
          "data": {
            "text/plain": [
              "array([[0.2],\n",
              "       [0.4],\n",
              "       [0.6],\n",
              "       [0.8]])"
            ]
          },
          "metadata": {},
          "execution_count": 15
        }
      ]
    },
    {
      "cell_type": "code",
      "source": [
        "# Norm of a vector\n",
        "v.size"
      ],
      "metadata": {
        "colab": {
          "base_uri": "https://localhost:8080/"
        },
        "id": "1dG0YJOAlzse",
        "outputId": "44abfe9f-938c-4923-c88d-ff375c987742"
      },
      "execution_count": 18,
      "outputs": [
        {
          "output_type": "execute_result",
          "data": {
            "text/plain": [
              "4"
            ]
          },
          "metadata": {},
          "execution_count": 18
        }
      ]
    },
    {
      "cell_type": "code",
      "source": [
        "# Dot products:\n",
        "v.dot(v)"
      ],
      "metadata": {
        "colab": {
          "base_uri": "https://localhost:8080/"
        },
        "id": "otA7SKs7mRpI",
        "outputId": "4d6029f7-245b-454d-e5dc-f47e87b0d98b"
      },
      "execution_count": 21,
      "outputs": [
        {
          "output_type": "execute_result",
          "data": {
            "text/plain": [
              "np.int64(30)"
            ]
          },
          "metadata": {},
          "execution_count": 21
        }
      ]
    },
    {
      "cell_type": "code",
      "source": [
        "np.linalg.norm(v)"
      ],
      "metadata": {
        "colab": {
          "base_uri": "https://localhost:8080/"
        },
        "id": "ykEovmpoo0Ez",
        "outputId": "df69ff7a-1b39-44f7-8646-1a87624aca6b"
      },
      "execution_count": 22,
      "outputs": [
        {
          "output_type": "execute_result",
          "data": {
            "text/plain": [
              "np.float64(5.477225575051661)"
            ]
          },
          "metadata": {},
          "execution_count": 22
        }
      ]
    },
    {
      "cell_type": "code",
      "source": [
        "np.sqrt(v.dot(v))"
      ],
      "metadata": {
        "colab": {
          "base_uri": "https://localhost:8080/"
        },
        "id": "Wpmb4I4Mo4jz",
        "outputId": "9a2e93df-728b-421d-a874-526e8e9f8460"
      },
      "execution_count": 23,
      "outputs": [
        {
          "output_type": "execute_result",
          "data": {
            "text/plain": [
              "np.float64(5.477225575051661)"
            ]
          },
          "metadata": {},
          "execution_count": 23
        }
      ]
    },
    {
      "cell_type": "markdown",
      "source": [
        "Gram-Schmidt Process for four vectors:"
      ],
      "metadata": {
        "id": "58HO-lvJo_oa"
      }
    },
    {
      "cell_type": "code",
      "source": [
        "# Create the four vectors\n",
        "r1 = np.array ([0,3,-3,0])\n",
        "r2 = np.array ([2,6,-2,2])\n",
        "r3 = np.array ([-2,1,-3,0])\n",
        "r4 = np.array ([2,-4,-2,-4])"
      ],
      "metadata": {
        "id": "4ZB8aHp4pCSt"
      },
      "execution_count": 43,
      "outputs": []
    },
    {
      "cell_type": "code",
      "source": [
        "print(\"the first random vector is\", r1)"
      ],
      "metadata": {
        "colab": {
          "base_uri": "https://localhost:8080/"
        },
        "id": "AetUvvZup8Ub",
        "outputId": "78b19463-59e1-458f-8bc5-8d1030cc8a06"
      },
      "execution_count": 26,
      "outputs": [
        {
          "output_type": "stream",
          "name": "stdout",
          "text": [
            "the first random vector is [ 0  3 -3  0]\n"
          ]
        }
      ]
    },
    {
      "cell_type": "markdown",
      "source": [
        "Let's process the first vector"
      ],
      "metadata": {
        "id": "t9VGBzdIqAyF"
      }
    },
    {
      "cell_type": "code",
      "source": [
        "# Choose r1\n",
        "# Make temporary vector t1 = r1\n",
        "t1 = r1\n",
        "print(t1)"
      ],
      "metadata": {
        "colab": {
          "base_uri": "https://localhost:8080/"
        },
        "id": "-RWSDOBKqC22",
        "outputId": "fafc8630-8bc9-4b09-b6bd-87b0ce6fbd2a"
      },
      "execution_count": 27,
      "outputs": [
        {
          "output_type": "stream",
          "name": "stdout",
          "text": [
            "[ 0  3 -3  0]\n"
          ]
        }
      ]
    },
    {
      "cell_type": "code",
      "source": [
        "# Normalize t1, and save it as our nice vector u1\n",
        "n1 = np.sqrt(t1.dot(t1))\n",
        "print(n1)\n",
        "# Let's form u1\n",
        "u1 = (1/n1) * t1\n",
        "print(\"our first nice vector is u1: \", u1)"
      ],
      "metadata": {
        "colab": {
          "base_uri": "https://localhost:8080/"
        },
        "id": "46BX2YV1qLe8",
        "outputId": "f837394e-5344-4698-f78c-1e641f923478"
      },
      "execution_count": 29,
      "outputs": [
        {
          "output_type": "stream",
          "name": "stdout",
          "text": [
            "4.242640687119285\n",
            "our first nice vector is u1:  [ 0.          0.70710678 -0.70710678  0.        ]\n"
          ]
        }
      ]
    },
    {
      "cell_type": "code",
      "source": [
        "# Sanity check:\n",
        "# Size of u1 is 1, and it is orthogonal to other nice vectors:\n",
        "print(np.sqrt(u1.dot(u1)))"
      ],
      "metadata": {
        "colab": {
          "base_uri": "https://localhost:8080/"
        },
        "id": "R-BKallOqjqm",
        "outputId": "7bfed5d1-9c53-44df-a943-5fbabe6e3269"
      },
      "execution_count": 31,
      "outputs": [
        {
          "output_type": "stream",
          "name": "stdout",
          "text": [
            "1.0\n"
          ]
        }
      ]
    },
    {
      "cell_type": "markdown",
      "source": [
        "Process the second vector r2"
      ],
      "metadata": {
        "id": "9c6OZyrkq7NH"
      }
    },
    {
      "cell_type": "code",
      "source": [
        "# Choose r2\n",
        "# Make a temporary vector t2 = r2 - (r2 . u1) u1\n",
        "t2 = r2 - r2.dot(u1) * u1\n",
        "print(t2)"
      ],
      "metadata": {
        "colab": {
          "base_uri": "https://localhost:8080/"
        },
        "id": "8n09YtDLq7rl",
        "outputId": "e60a1293-b2bb-4596-f891-e58a65c09fb6"
      },
      "execution_count": 32,
      "outputs": [
        {
          "output_type": "stream",
          "name": "stdout",
          "text": [
            "[2. 2. 2. 2.]\n"
          ]
        }
      ]
    },
    {
      "cell_type": "code",
      "source": [
        "# Normalize t2 and save it as u2:\n",
        "n2 = np.sqrt(t2.dot(t2))\n",
        "print(n2)\n",
        "u2 = (1/n2) * t2\n",
        "print(\"our second nice vector is u2: \", u2)"
      ],
      "metadata": {
        "colab": {
          "base_uri": "https://localhost:8080/"
        },
        "id": "s5q148rtrLPb",
        "outputId": "e61c8806-eea7-4369-d354-eb4f007b6b0e"
      },
      "execution_count": 33,
      "outputs": [
        {
          "output_type": "stream",
          "name": "stdout",
          "text": [
            "4.0\n",
            "our second nice vector is u2:  [0.5 0.5 0.5 0.5]\n"
          ]
        }
      ]
    },
    {
      "cell_type": "code",
      "source": [
        "# Sanity Check:\n",
        "# Size of u2 is 1, and it is orthogonal to other nice vectors:\n",
        "print(np.sqrt(u2.dot(u2)))\n",
        "print(u1.dot(u2))"
      ],
      "metadata": {
        "colab": {
          "base_uri": "https://localhost:8080/"
        },
        "id": "MQtXfzFfrqpS",
        "outputId": "48eeef7c-07a3-4d26-b611-624b04dc612f"
      },
      "execution_count": 34,
      "outputs": [
        {
          "output_type": "stream",
          "name": "stdout",
          "text": [
            "1.0\n",
            "-3.3306690738754696e-16\n"
          ]
        }
      ]
    },
    {
      "cell_type": "markdown",
      "source": [
        "Process the third vector r3"
      ],
      "metadata": {
        "id": "MZlOiU30sAwZ"
      }
    },
    {
      "cell_type": "code",
      "source": [
        "# Choose r3\n",
        "# Make a temporary vector t3 = r3 - (r3 . u1) u1\n",
        "t3 = r3 - r3.dot(u2) * u2 - r3.dot(u1) * u1\n",
        "print(t3)"
      ],
      "metadata": {
        "colab": {
          "base_uri": "https://localhost:8080/"
        },
        "id": "gZiFGhiDsDwi",
        "outputId": "46414e5c-623e-49e4-824e-922b8869d73c"
      },
      "execution_count": 44,
      "outputs": [
        {
          "output_type": "stream",
          "name": "stdout",
          "text": [
            "[-1.00000000e+00 -4.44089210e-16  1.33226763e-15  1.00000000e+00]\n"
          ]
        }
      ]
    },
    {
      "cell_type": "code",
      "source": [
        "# Normalize t3 and save it as u3:\n",
        "n3 = np.sqrt(t3.dot(t3))\n",
        "print(n3)\n",
        "u3 = (1/n3) * t3\n",
        "print(\"our third nice vector is u3: \", u3)"
      ],
      "metadata": {
        "colab": {
          "base_uri": "https://localhost:8080/"
        },
        "id": "0arf-Y2UsRw7",
        "outputId": "ad8a683f-fea4-478b-d7e9-7b4a424661f7"
      },
      "execution_count": 47,
      "outputs": [
        {
          "output_type": "stream",
          "name": "stdout",
          "text": [
            "1.4142135623730951\n",
            "our third nice vector is u3:  [-7.07106781e-01 -3.14018492e-16  9.42055475e-16  7.07106781e-01]\n"
          ]
        }
      ]
    },
    {
      "cell_type": "code",
      "source": [
        "# Sanity Check:\n",
        "# Size of u3 is 1, and it is orthogonal to other nice vectors:\n",
        "print(np.sqrt(u3.dot(u3)))\n",
        "print(u1.dot(u3))\n",
        "print(u2.dot(u3))"
      ],
      "metadata": {
        "colab": {
          "base_uri": "https://localhost:8080/"
        },
        "id": "lcbYnq_AskmY",
        "outputId": "9098a86a-2de0-4f7d-c5fd-9e361d257d76"
      },
      "execution_count": 46,
      "outputs": [
        {
          "output_type": "stream",
          "name": "stdout",
          "text": [
            "0.9999999999999999\n",
            "-8.881784197001252e-16\n",
            "6.106226635438361e-16\n"
          ]
        }
      ]
    },
    {
      "cell_type": "markdown",
      "source": [
        "Process the fourth vector r4"
      ],
      "metadata": {
        "id": "Q3WEqNZxtBUX"
      }
    },
    {
      "cell_type": "code",
      "source": [
        "# Choose r4\n",
        "# Make a temporary vector t4 = r4 - (r4 . u1) u1\n",
        "t4 = r4 - r4.dot(u1) * u1 - r4.dot(u2) * u2 - r4.dot(u3) * u3\n",
        "print(t4)"
      ],
      "metadata": {
        "colab": {
          "base_uri": "https://localhost:8080/"
        },
        "id": "X4ug1ksitD6x",
        "outputId": "371a02f2-c164-4a8c-8445-bfa4f591f0ba"
      },
      "execution_count": 48,
      "outputs": [
        {
          "output_type": "stream",
          "name": "stdout",
          "text": [
            "[ 1. -1. -1.  1.]\n"
          ]
        }
      ]
    },
    {
      "cell_type": "code",
      "source": [
        "# Normalize t4 and save it as u4:\n",
        "n4 = np.sqrt(t4.dot(t4))\n",
        "print(n4)\n",
        "u4 = (1/n4) * t4\n",
        "print(\"our third nice vector is u4: \", u4)"
      ],
      "metadata": {
        "colab": {
          "base_uri": "https://localhost:8080/"
        },
        "id": "iIiSI3D6tpfM",
        "outputId": "7275487c-6b67-4358-db1b-47a5ecb94ea5"
      },
      "execution_count": 49,
      "outputs": [
        {
          "output_type": "stream",
          "name": "stdout",
          "text": [
            "2.0000000000000004\n",
            "our third nice vector is u4:  [ 0.5 -0.5 -0.5  0.5]\n"
          ]
        }
      ]
    },
    {
      "cell_type": "code",
      "source": [
        "# Sanity Check:\n",
        "# Size of u4 is 1, and it is orthogonal to other nice vectors:\n",
        "print(np.sqrt(u4.dot(u4)))\n",
        "print(u1.dot(u4))\n",
        "print(u2.dot(u4))\n",
        "print(u3.dot(u4))"
      ],
      "metadata": {
        "colab": {
          "base_uri": "https://localhost:8080/"
        },
        "id": "AYt7bUYKtyCl",
        "outputId": "cdc3b716-1fe2-4bd2-fc23-30c29470a105"
      },
      "execution_count": 50,
      "outputs": [
        {
          "output_type": "stream",
          "name": "stdout",
          "text": [
            "0.9999999999999999\n",
            "-2.4424906541753444e-15\n",
            "1.1657341758564144e-15\n",
            "5.551115123125783e-17\n"
          ]
        }
      ]
    },
    {
      "cell_type": "code",
      "source": [
        "print(\"Our nice othornormed vectors are: \")\n",
        "print(u1)\n",
        "print(u2)\n",
        "print(u3)\n",
        "print(u4)"
      ],
      "metadata": {
        "colab": {
          "base_uri": "https://localhost:8080/"
        },
        "id": "eRPyuhJfvBHf",
        "outputId": "eeb15a8d-1de3-45b3-9b09-4a4e90e24181"
      },
      "execution_count": 51,
      "outputs": [
        {
          "output_type": "stream",
          "name": "stdout",
          "text": [
            "Our nice othornormed vectors are: \n",
            "[ 0.          0.70710678 -0.70710678  0.        ]\n",
            "[0.5 0.5 0.5 0.5]\n",
            "[-7.07106781e-01 -3.14018492e-16  9.42055475e-16  7.07106781e-01]\n",
            "[ 0.5 -0.5 -0.5  0.5]\n"
          ]
        }
      ]
    }
  ]
}